{
 "cells": [
  {
   "cell_type": "markdown",
   "metadata": {},
   "source": [
    "# Introduction"
   ]
  },
  {
   "cell_type": "markdown",
   "metadata": {},
   "source": [
    "This IPython notebook illustrates how to cluster a collection of strings using `py_stringclustering`. First, we need to import `py_stringclustering` package and other libraries as follows:"
   ]
  },
  {
   "cell_type": "code",
   "execution_count": 1,
   "metadata": {
    "ExecuteTime": {
     "end_time": "2017-12-30T18:12:19.100155Z",
     "start_time": "2017-12-30T12:12:18.934822-06:00"
    },
    "collapsed": false
   },
   "outputs": [],
   "source": [
    "# Import py_stringclustering package\n",
    "import py_stringclustering as scl\n",
    "import pandas as pd\n",
    "import os\n",
    "from sklearn.cluster import AgglomerativeClustering"
   ]
  },
  {
   "cell_type": "markdown",
   "metadata": {},
   "source": [
    "Next, we read the set of input strings from a file. This file contains the input strings, one string per line. We use the function `read_data` which returns a Pandas Dataframe containing the input strings and their corresponding IDs."
   ]
  },
  {
   "cell_type": "code",
   "execution_count": 3,
   "metadata": {
    "collapsed": false
   },
   "outputs": [],
   "source": [
    "# Get the datasets directory\n",
    "from py_stringclustering.utils.generic_helper import get_install_path\n",
    "\n",
    "datasets_dir = get_install_path() + os.sep + 'tests' + os.sep + 'test_datasets'\n",
    "path_big_ten = datasets_dir + os.sep + 'big_ten.txt'"
   ]
  },
  {
   "cell_type": "code",
   "execution_count": 4,
   "metadata": {
    "collapsed": true
   },
   "outputs": [],
   "source": [
    "# Read the strings from file\n",
    "df = scl.read_data(path_big_ten)"
   ]
  },
  {
   "cell_type": "code",
   "execution_count": 5,
   "metadata": {
    "collapsed": false
   },
   "outputs": [
    {
     "data": {
      "text/html": [
       "<div>\n",
       "<table border=\"1\" class=\"dataframe\">\n",
       "  <thead>\n",
       "    <tr style=\"text-align: right;\">\n",
       "      <th></th>\n",
       "      <th>name</th>\n",
       "      <th>id</th>\n",
       "    </tr>\n",
       "  </thead>\n",
       "  <tbody>\n",
       "    <tr>\n",
       "      <th>0</th>\n",
       "      <td>Buckeyes</td>\n",
       "      <td>0</td>\n",
       "    </tr>\n",
       "    <tr>\n",
       "      <th>1</th>\n",
       "      <td>Indiana University</td>\n",
       "      <td>1</td>\n",
       "    </tr>\n",
       "    <tr>\n",
       "      <th>2</th>\n",
       "      <td>Indiana</td>\n",
       "      <td>2</td>\n",
       "    </tr>\n",
       "    <tr>\n",
       "      <th>3</th>\n",
       "      <td>M.S.U</td>\n",
       "      <td>3</td>\n",
       "    </tr>\n",
       "    <tr>\n",
       "      <th>4</th>\n",
       "      <td>MSU</td>\n",
       "      <td>4</td>\n",
       "    </tr>\n",
       "  </tbody>\n",
       "</table>\n",
       "</div>"
      ],
      "text/plain": [
       "                 name  id\n",
       "0            Buckeyes   0\n",
       "1  Indiana University   1\n",
       "2             Indiana   2\n",
       "3               M.S.U   3\n",
       "4                 MSU   4"
      ]
     },
     "execution_count": 5,
     "metadata": {},
     "output_type": "execute_result"
    }
   ],
   "source": [
    "df.head()"
   ]
  },
  {
   "cell_type": "code",
   "execution_count": 7,
   "metadata": {
    "collapsed": false
   },
   "outputs": [
    {
     "data": {
      "text/plain": [
       "74"
      ]
     },
     "execution_count": 7,
     "metadata": {},
     "output_type": "execute_result"
    }
   ],
   "source": [
    "len(df)"
   ]
  },
  {
   "cell_type": "markdown",
   "metadata": {},
   "source": [
    "## Blocking Step\n",
    "\n",
    "In this step, we try to reduce the number of string pairs we need to compute the similarity for, by performing a round of blocking. For this purpose, we use the `py_stringsimjoin` and `py_stringmatching` packages as follows:"
   ]
  },
  {
   "cell_type": "code",
   "execution_count": 10,
   "metadata": {
    "collapsed": false
   },
   "outputs": [
    {
     "name": "stderr",
     "output_type": "stream",
     "text": [
      "0%                          100%\n",
      "[##############################] | ETA: 00:00:00 | ETA: 00:00:00 | ETA: 00:00:00 | ETA: 00:00:00 | ETA: 00:00:00 | ETA: 00:00:00 | ETA: 00:00:00 | ETA: 00:00:00 | ETA: 00:00:00 | ETA: 00:00:00 | ETA: 00:00:00 | ETA: 00:00:00 | ETA: 00:00:00 | ETA: 00:00:00 | ETA: 00:00:00 | ETA: 00:00:00 | ETA: 00:00:00 | ETA: 00:00:00 | ETA: 00:00:00 | ETA: 00:00:00 | ETA: 00:00:00 | ETA: 00:00:00 | ETA: 00:00:00 | ETA: 00:00:00 | ETA: 00:00:00 | ETA: 00:00:00 | ETA: 00:00:00 | ETA: 00:00:00 | ETA: 00:00:00 | ETA: 00:00:00 | ETA: 00:00:00\n",
      "Total time elapsed: 00:00:00\n"
     ]
    }
   ],
   "source": [
    "import py_stringmatching as sm\n",
    "import py_stringsimjoin as ssj\n",
    "\n",
    "# Block using Jaccard join with jacc3gr(s1, s2) >= 0.3\n",
    "# Returns a DataFrame containing pairs of string IDs that satisfy the blocking condition\n",
    "trigramtok = sm.QgramTokenizer(qval=3)\n",
    "blocked_pairs = ssj.jaccard_join(df, df, 'id', 'id', 'name', 'name', trigramtok, 0.3)"
   ]
  },
  {
   "cell_type": "code",
   "execution_count": 11,
   "metadata": {
    "collapsed": false
   },
   "outputs": [
    {
     "data": {
      "text/html": [
       "<div>\n",
       "<table border=\"1\" class=\"dataframe\">\n",
       "  <thead>\n",
       "    <tr style=\"text-align: right;\">\n",
       "      <th></th>\n",
       "      <th>_id</th>\n",
       "      <th>l_id</th>\n",
       "      <th>r_id</th>\n",
       "      <th>_sim_score</th>\n",
       "    </tr>\n",
       "  </thead>\n",
       "  <tbody>\n",
       "    <tr>\n",
       "      <th>0</th>\n",
       "      <td>0</td>\n",
       "      <td>0</td>\n",
       "      <td>0</td>\n",
       "      <td>1.000000</td>\n",
       "    </tr>\n",
       "    <tr>\n",
       "      <th>1</th>\n",
       "      <td>1</td>\n",
       "      <td>1</td>\n",
       "      <td>1</td>\n",
       "      <td>1.000000</td>\n",
       "    </tr>\n",
       "    <tr>\n",
       "      <th>2</th>\n",
       "      <td>2</td>\n",
       "      <td>2</td>\n",
       "      <td>1</td>\n",
       "      <td>0.318182</td>\n",
       "    </tr>\n",
       "    <tr>\n",
       "      <th>3</th>\n",
       "      <td>3</td>\n",
       "      <td>9</td>\n",
       "      <td>1</td>\n",
       "      <td>0.305556</td>\n",
       "    </tr>\n",
       "    <tr>\n",
       "      <th>4</th>\n",
       "      <td>4</td>\n",
       "      <td>26</td>\n",
       "      <td>1</td>\n",
       "      <td>0.392857</td>\n",
       "    </tr>\n",
       "  </tbody>\n",
       "</table>\n",
       "</div>"
      ],
      "text/plain": [
       "   _id  l_id  r_id  _sim_score\n",
       "0    0     0     0    1.000000\n",
       "1    1     1     1    1.000000\n",
       "2    2     2     1    0.318182\n",
       "3    3     9     1    0.305556\n",
       "4    4    26     1    0.392857"
      ]
     },
     "execution_count": 11,
     "metadata": {},
     "output_type": "execute_result"
    }
   ],
   "source": [
    "blocked_pairs.head()"
   ]
  },
  {
   "cell_type": "markdown",
   "metadata": {},
   "source": [
    "## Calculate Pairwise Similarities\n",
    "\n",
    "\n",
    "Next, we calculate the similarities between the blocked string pairs, using the `get_sim_scores` function:"
   ]
  },
  {
   "cell_type": "code",
   "execution_count": 12,
   "metadata": {
    "collapsed": false
   },
   "outputs": [
    {
     "name": "stdout",
     "output_type": "stream",
     "text": [
      "Blocked pairs provided.\n"
     ]
    }
   ],
   "source": [
    "# Define clustering similarity measure\n",
    "jaccsim = sm.Jaccard()\n",
    "\n",
    "# Calculate sim scores\n",
    "# Returns a list of triplets of the form (id1, id2, sim)\n",
    "sim_scores = scl.get_sim_scores(df, blocked_pairs, trigramtok, jaccsim)"
   ]
  },
  {
   "cell_type": "code",
   "execution_count": 15,
   "metadata": {
    "collapsed": false
   },
   "outputs": [
    {
     "data": {
      "text/plain": [
       "[(1, 2, 0.3181818181818182),\n",
       " (7, 8, 0.36363636363636365),\n",
       " (1, 9, 0.3055555555555556),\n",
       " (8, 10, 0.3333333333333333),\n",
       " (11, 13, 0.3076923076923077),\n",
       " (12, 13, 0.36),\n",
       " (3, 17, 0.4),\n",
       " (17, 20, 0.4),\n",
       " (3, 20, 0.4),\n",
       " (19, 22, 0.3333333333333333)]"
      ]
     },
     "execution_count": 15,
     "metadata": {},
     "output_type": "execute_result"
    }
   ],
   "source": [
    "sim_scores[:10]"
   ]
  },
  {
   "cell_type": "markdown",
   "metadata": {},
   "source": [
    "## Generate Similarity Matrix\n",
    "\n",
    "Then, we use the similarity scores calculated above to generate a similarity matrix, by calling the `get_sim_matrix` function. This similarity matrix will be used to run the clustering algorithm subsequently."
   ]
  },
  {
   "cell_type": "code",
   "execution_count": 16,
   "metadata": {
    "collapsed": true
   },
   "outputs": [],
   "source": [
    "# Returns a NumPy matrix containing the similarities in sim_scores and zero everywhere else\n",
    "sim_matrix = scl.get_sim_matrix(df, sim_scores)"
   ]
  },
  {
   "cell_type": "code",
   "execution_count": 17,
   "metadata": {
    "collapsed": false
   },
   "outputs": [
    {
     "data": {
      "text/plain": [
       "array([[ 0.        ,  0.        ,  0.        , ...,  0.        ,\n",
       "         0.        ,  0.        ],\n",
       "       [ 0.        ,  0.        ,  0.31818182, ...,  0.        ,\n",
       "         0.        ,  0.        ],\n",
       "       [ 0.        ,  0.        ,  0.        , ...,  0.        ,\n",
       "         0.        ,  0.        ],\n",
       "       ..., \n",
       "       [ 0.        ,  0.        ,  0.        , ...,  0.        ,\n",
       "         0.44444444,  0.30769231],\n",
       "       [ 0.        ,  0.        ,  0.        , ...,  0.        ,\n",
       "         0.        ,  0.38461538],\n",
       "       [ 0.        ,  0.        ,  0.        , ...,  0.        ,\n",
       "         0.        ,  0.        ]])"
      ]
     },
     "execution_count": 17,
     "metadata": {},
     "output_type": "execute_result"
    }
   ],
   "source": [
    "sim_matrix"
   ]
  },
  {
   "cell_type": "markdown",
   "metadata": {},
   "source": [
    "## Run Hierarchical Agglomerative Clustering (HAC)\n",
    "\n",
    "Next, we use the similarity matrix calculated above to cluster the input strings, using the scikit-learn package:"
   ]
  },
  {
   "cell_type": "code",
   "execution_count": 18,
   "metadata": {
    "collapsed": true
   },
   "outputs": [],
   "source": [
    "aggcl = AgglomerativeClustering(n_clusters=5, affinity='precomputed', linkage='complete')\n",
    "\n",
    "### Returns a list of cluster labels\n",
    "labels = aggcl.fit_predict(sim_matrix)"
   ]
  },
  {
   "cell_type": "markdown",
   "metadata": {},
   "source": [
    "## Generate the string clusters\n",
    "\n",
    "Finally, we use the labels assigned above to generate the final clusters of strings, by calling the `get_clusters` function:"
   ]
  },
  {
   "cell_type": "code",
   "execution_count": 19,
   "metadata": {
    "collapsed": true
   },
   "outputs": [],
   "source": [
    "### Returns a list of clusters where each cluster is a list of strings\n",
    "str_clusters = scl.get_clusters(df, labels)"
   ]
  },
  {
   "cell_type": "code",
   "execution_count": 20,
   "metadata": {
    "collapsed": false
   },
   "outputs": [
    {
     "data": {
      "text/plain": [
       "[['P.S.U',\n",
       "  'Purdue University',\n",
       "  'UMich',\n",
       "  'University of Iowa Iowa City',\n",
       "  'Wisc Madison',\n",
       "  'iowa',\n",
       "  'wisconsin'],\n",
       " ['University of iowa', 'wisco'],\n",
       " ['Indiana',\n",
       "  'Mich',\n",
       "  'Michigan State University',\n",
       "  'Minnesota',\n",
       "  'O.S.U',\n",
       "  'Penn State',\n",
       "  'Purdue University Boilermakers',\n",
       "  'Purdue',\n",
       "  'Rutgers',\n",
       "  'The university of iowa',\n",
       "  'U Nebraska',\n",
       "  'UM Twin Cities',\n",
       "  'University of Wisconsin Madison',\n",
       "  'michigan state'],\n",
       " ['Buckeyes',\n",
       "  'Indiana University',\n",
       "  'M.S.U',\n",
       "  'MSU',\n",
       "  'Madison - UW',\n",
       "  'Maryland',\n",
       "  'Mich St',\n",
       "  'Michigan',\n",
       "  'Minn',\n",
       "  'Minnesota Twin Cities',\n",
       "  'NORTHWESTERN UNIVERSITY',\n",
       "  'NWern',\n",
       "  'Nebraska',\n",
       "  'OSU',\n",
       "  'Ohio State',\n",
       "  'PSU',\n",
       "  'Pennsylvania State University',\n",
       "  'Purdue Univ',\n",
       "  'RU',\n",
       "  'Rutgers U',\n",
       "  'Rutgers the state university of new jersey',\n",
       "  'THE ohio state uiversity',\n",
       "  'The University of Maryland',\n",
       "  'U Wisconsin',\n",
       "  'U of Mich',\n",
       "  'U.M.N',\n",
       "  'U.N.L',\n",
       "  'UDub',\n",
       "  'UI Iowa City',\n",
       "  'UIowa',\n",
       "  'UM Ann Arbor',\n",
       "  'UM College Park',\n",
       "  'UMD',\n",
       "  'UMN',\n",
       "  'UNL',\n",
       "  'UW Madison',\n",
       "  'UW',\n",
       "  'University of Minnesota Gophers',\n",
       "  'University of Nebraska Lincoln',\n",
       "  'WISCONSIN',\n",
       "  'iowa hawkeyes',\n",
       "  'mich',\n",
       "  'michigan ann arbor',\n",
       "  'northwestern university',\n",
       "  'rutgers',\n",
       "  'umn',\n",
       "  'wisc'],\n",
       " ['University of Nebraska', 'maryland', 'michigan st', 'northwestern']]"
      ]
     },
     "execution_count": 20,
     "metadata": {},
     "output_type": "execute_result"
    }
   ],
   "source": [
    "str_clusters"
   ]
  },
  {
   "cell_type": "code",
   "execution_count": null,
   "metadata": {
    "collapsed": true
   },
   "outputs": [],
   "source": []
  }
 ],
 "metadata": {
  "anaconda-cloud": {},
  "hide_input": false,
  "kernelspec": {
   "display_name": "Python [Root]",
   "language": "python",
   "name": "Python [Root]"
  },
  "language_info": {
   "codemirror_mode": {
    "name": "ipython",
    "version": 2
   },
   "file_extension": ".py",
   "mimetype": "text/x-python",
   "name": "python",
   "nbconvert_exporter": "python",
   "pygments_lexer": "ipython2",
   "version": "2.7.13"
  }
 },
 "nbformat": 4,
 "nbformat_minor": 1
}
